{
 "cells": [
  {
   "cell_type": "code",
   "execution_count": null,
   "id": "25f3a01b",
   "metadata": {},
   "outputs": [],
   "source": [
    "import numpy as np\n",
    "print(np.__version__)"
   ]
  },
  {
   "cell_type": "code",
   "execution_count": null,
   "id": "660d0b72",
   "metadata": {},
   "outputs": [],
   "source": [
    "import cv2\n",
    "import requests\n",
    "import numpy as np\n",
    "from PIL import Image\n",
    "from facenet_pytorch import MTCNN\n",
    "\n",
    "# Khởi tạo detector\n",
    "mtcnn = MTCNN(keep_all=True)\n",
    "\n",
    "# URL ảnh tĩnh từ IP Webcam\n",
    "# url = \"http://10.2.87.162:8080/shot.jpg\"\n",
    "url = \"http://10.2.88.228:8080/shot.jpg\"\n",
    "detected_frames = []\n",
    "while True:\n",
    "    # Lấy ảnh từ camera\n",
    "    img_resp = requests.get(url)\n",
    "    img_arr = np.array(bytearray(img_resp.content), dtype=np.uint8)\n",
    "    frame = cv2.imdecode(img_arr, -1)\n",
    "\n",
    "    # Giảm kích thước ảnh (50%)\n",
    "    frame = cv2.resize(frame, None, fx=0.5, fy=0.5)\n",
    "\n",
    "    # Chuyển sang RGB cho MTCNN\n",
    "    img = Image.fromarray(cv2.cvtColor(frame, cv2.COLOR_BGR2RGB))\n",
    "\n",
    "    # Phát hiện khuôn mặt\n",
    "    boxes, probs = mtcnn.detect(img)\n",
    "    \n",
    "    # Vẽ khung lên ảnh\n",
    "    if boxes is not None:\n",
    "        for box, prob in zip(boxes, probs):\n",
    "            if prob > 0.7:  # Ngưỡng confidence\n",
    "                detected_frames.append(frame.copy())\n",
    "                \n",
    "                x1, y1, x2, y2 = [int(b) for b in box]\n",
    "                cv2.rectangle(frame, (x1, y1), (x2, y2), (0, 255, 0), 2)\n",
    "\n",
    "    # Hiển thị kết quả\n",
    "    cv2.imshow(\"MTCNN Face Detection\", frame)\n",
    "\n",
    "    # Nhấn Q để thoát\n",
    "    if cv2.waitKey(1) & 0xFF == ord('q'):\n",
    "        break\n",
    "\n",
    "cv2.destroyAllWindows()\n"
   ]
  },
  {
   "cell_type": "code",
   "execution_count": null,
   "id": "8f3b3e8a",
   "metadata": {},
   "outputs": [],
   "source": [
    "print(f\"Đã lưu {len(detected_frames)} frame có khuôn mặt\")\n",
    "\n",
    "while True:  # lặp vô hạn, bấm Q để thoát\n",
    "    for i, f in enumerate(detected_frames):\n",
    "        cv2.imshow(\"Detected Frames\", f)\n",
    "        if cv2.waitKey(100) & 0xFF == ord('q'):  # mỗi ảnh 1 giây\n",
    "            break\n",
    "    else:\n",
    "        continue\n",
    "    break\n",
    "\n",
    "cv2.destroyAllWindows()\n"
   ]
  }
 ],
 "metadata": {
  "kernelspec": {
   "display_name": ".venv",
   "language": "python",
   "name": "python3"
  },
  "language_info": {
   "codemirror_mode": {
    "name": "ipython",
    "version": 3
   },
   "file_extension": ".py",
   "mimetype": "text/x-python",
   "name": "python",
   "nbconvert_exporter": "python",
   "pygments_lexer": "ipython3",
   "version": "3.12.2"
  }
 },
 "nbformat": 4,
 "nbformat_minor": 5
}
