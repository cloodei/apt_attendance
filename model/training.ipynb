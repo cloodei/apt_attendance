{
  "nbformat": 4,
  "nbformat_minor": 0,
  "metadata": {
    "colab": {
      "provenance": [],
      "gpuType": "T4",
      "collapsed_sections": [
        "7evg7p3dh3RN",
        "wusRSbvTh6Z-",
        "Sn24dDWfiB1Z",
        "vbbjwOIbgTrz",
        "q_OKjxiTfjP6",
        "3-mbyVJZKXhf",
        "dlh4gUNGKdU-",
        "tryj7Bvqdn3h",
        "z3gHfQlIeOhc"
      ]
    },
    "kernelspec": {
      "name": "python3",
      "display_name": "Python 3"
    },
    "language_info": {
      "name": "python"
    },
    "widgets": {
      "application/vnd.jupyter.widget-state+json": {
        "0636db83af0a407d80f8e3de08eeadaa": {
          "model_module": "@jupyter-widgets/controls",
          "model_name": "HBoxModel",
          "model_module_version": "1.5.0",
          "state": {
            "_dom_classes": [],
            "_model_module": "@jupyter-widgets/controls",
            "_model_module_version": "1.5.0",
            "_model_name": "HBoxModel",
            "_view_count": null,
            "_view_module": "@jupyter-widgets/controls",
            "_view_module_version": "1.5.0",
            "_view_name": "HBoxView",
            "box_style": "",
            "children": [
              "IPY_MODEL_d9d42eef1cb443b4a3b252b69c5707aa",
              "IPY_MODEL_ac8ee713e13044eaa3d38a281e7a37bf",
              "IPY_MODEL_422ba1d0b29e47bb9c4b06c98c831996"
            ],
            "layout": "IPY_MODEL_88b46bc50d5f42678cde09254f98e77b"
          }
        },
        "d9d42eef1cb443b4a3b252b69c5707aa": {
          "model_module": "@jupyter-widgets/controls",
          "model_name": "HTMLModel",
          "model_module_version": "1.5.0",
          "state": {
            "_dom_classes": [],
            "_model_module": "@jupyter-widgets/controls",
            "_model_module_version": "1.5.0",
            "_model_name": "HTMLModel",
            "_view_count": null,
            "_view_module": "@jupyter-widgets/controls",
            "_view_module_version": "1.5.0",
            "_view_name": "HTMLView",
            "description": "",
            "description_tooltip": null,
            "layout": "IPY_MODEL_b5b948c859954cb29741295c6d91917b",
            "placeholder": "​",
            "style": "IPY_MODEL_6816d46ab9c34e57862b28ea5f789408",
            "value": "100%"
          }
        },
        "ac8ee713e13044eaa3d38a281e7a37bf": {
          "model_module": "@jupyter-widgets/controls",
          "model_name": "FloatProgressModel",
          "model_module_version": "1.5.0",
          "state": {
            "_dom_classes": [],
            "_model_module": "@jupyter-widgets/controls",
            "_model_module_version": "1.5.0",
            "_model_name": "FloatProgressModel",
            "_view_count": null,
            "_view_module": "@jupyter-widgets/controls",
            "_view_module_version": "1.5.0",
            "_view_name": "ProgressView",
            "bar_style": "success",
            "description": "",
            "description_tooltip": null,
            "layout": "IPY_MODEL_4a8eeccb9fa8462287f0d369a54dd9b6",
            "max": 111898327,
            "min": 0,
            "orientation": "horizontal",
            "style": "IPY_MODEL_950e9fd619774f2182f46b5277fe4431",
            "value": 111898327
          }
        },
        "422ba1d0b29e47bb9c4b06c98c831996": {
          "model_module": "@jupyter-widgets/controls",
          "model_name": "HTMLModel",
          "model_module_version": "1.5.0",
          "state": {
            "_dom_classes": [],
            "_model_module": "@jupyter-widgets/controls",
            "_model_module_version": "1.5.0",
            "_model_name": "HTMLModel",
            "_view_count": null,
            "_view_module": "@jupyter-widgets/controls",
            "_view_module_version": "1.5.0",
            "_view_name": "HTMLView",
            "description": "",
            "description_tooltip": null,
            "layout": "IPY_MODEL_6e7f500fcf9d44278dfde1f02b086024",
            "placeholder": "​",
            "style": "IPY_MODEL_f36792676203454fb2fa07eef4c13ca4",
            "value": " 107M/107M [00:00&lt;00:00, 259MB/s]"
          }
        },
        "88b46bc50d5f42678cde09254f98e77b": {
          "model_module": "@jupyter-widgets/base",
          "model_name": "LayoutModel",
          "model_module_version": "1.2.0",
          "state": {
            "_model_module": "@jupyter-widgets/base",
            "_model_module_version": "1.2.0",
            "_model_name": "LayoutModel",
            "_view_count": null,
            "_view_module": "@jupyter-widgets/base",
            "_view_module_version": "1.2.0",
            "_view_name": "LayoutView",
            "align_content": null,
            "align_items": null,
            "align_self": null,
            "border": null,
            "bottom": null,
            "display": null,
            "flex": null,
            "flex_flow": null,
            "grid_area": null,
            "grid_auto_columns": null,
            "grid_auto_flow": null,
            "grid_auto_rows": null,
            "grid_column": null,
            "grid_gap": null,
            "grid_row": null,
            "grid_template_areas": null,
            "grid_template_columns": null,
            "grid_template_rows": null,
            "height": null,
            "justify_content": null,
            "justify_items": null,
            "left": null,
            "margin": null,
            "max_height": null,
            "max_width": null,
            "min_height": null,
            "min_width": null,
            "object_fit": null,
            "object_position": null,
            "order": null,
            "overflow": null,
            "overflow_x": null,
            "overflow_y": null,
            "padding": null,
            "right": null,
            "top": null,
            "visibility": null,
            "width": null
          }
        },
        "b5b948c859954cb29741295c6d91917b": {
          "model_module": "@jupyter-widgets/base",
          "model_name": "LayoutModel",
          "model_module_version": "1.2.0",
          "state": {
            "_model_module": "@jupyter-widgets/base",
            "_model_module_version": "1.2.0",
            "_model_name": "LayoutModel",
            "_view_count": null,
            "_view_module": "@jupyter-widgets/base",
            "_view_module_version": "1.2.0",
            "_view_name": "LayoutView",
            "align_content": null,
            "align_items": null,
            "align_self": null,
            "border": null,
            "bottom": null,
            "display": null,
            "flex": null,
            "flex_flow": null,
            "grid_area": null,
            "grid_auto_columns": null,
            "grid_auto_flow": null,
            "grid_auto_rows": null,
            "grid_column": null,
            "grid_gap": null,
            "grid_row": null,
            "grid_template_areas": null,
            "grid_template_columns": null,
            "grid_template_rows": null,
            "height": null,
            "justify_content": null,
            "justify_items": null,
            "left": null,
            "margin": null,
            "max_height": null,
            "max_width": null,
            "min_height": null,
            "min_width": null,
            "object_fit": null,
            "object_position": null,
            "order": null,
            "overflow": null,
            "overflow_x": null,
            "overflow_y": null,
            "padding": null,
            "right": null,
            "top": null,
            "visibility": null,
            "width": null
          }
        },
        "6816d46ab9c34e57862b28ea5f789408": {
          "model_module": "@jupyter-widgets/controls",
          "model_name": "DescriptionStyleModel",
          "model_module_version": "1.5.0",
          "state": {
            "_model_module": "@jupyter-widgets/controls",
            "_model_module_version": "1.5.0",
            "_model_name": "DescriptionStyleModel",
            "_view_count": null,
            "_view_module": "@jupyter-widgets/base",
            "_view_module_version": "1.2.0",
            "_view_name": "StyleView",
            "description_width": ""
          }
        },
        "4a8eeccb9fa8462287f0d369a54dd9b6": {
          "model_module": "@jupyter-widgets/base",
          "model_name": "LayoutModel",
          "model_module_version": "1.2.0",
          "state": {
            "_model_module": "@jupyter-widgets/base",
            "_model_module_version": "1.2.0",
            "_model_name": "LayoutModel",
            "_view_count": null,
            "_view_module": "@jupyter-widgets/base",
            "_view_module_version": "1.2.0",
            "_view_name": "LayoutView",
            "align_content": null,
            "align_items": null,
            "align_self": null,
            "border": null,
            "bottom": null,
            "display": null,
            "flex": null,
            "flex_flow": null,
            "grid_area": null,
            "grid_auto_columns": null,
            "grid_auto_flow": null,
            "grid_auto_rows": null,
            "grid_column": null,
            "grid_gap": null,
            "grid_row": null,
            "grid_template_areas": null,
            "grid_template_columns": null,
            "grid_template_rows": null,
            "height": null,
            "justify_content": null,
            "justify_items": null,
            "left": null,
            "margin": null,
            "max_height": null,
            "max_width": null,
            "min_height": null,
            "min_width": null,
            "object_fit": null,
            "object_position": null,
            "order": null,
            "overflow": null,
            "overflow_x": null,
            "overflow_y": null,
            "padding": null,
            "right": null,
            "top": null,
            "visibility": null,
            "width": null
          }
        },
        "950e9fd619774f2182f46b5277fe4431": {
          "model_module": "@jupyter-widgets/controls",
          "model_name": "ProgressStyleModel",
          "model_module_version": "1.5.0",
          "state": {
            "_model_module": "@jupyter-widgets/controls",
            "_model_module_version": "1.5.0",
            "_model_name": "ProgressStyleModel",
            "_view_count": null,
            "_view_module": "@jupyter-widgets/base",
            "_view_module_version": "1.2.0",
            "_view_name": "StyleView",
            "bar_color": null,
            "description_width": ""
          }
        },
        "6e7f500fcf9d44278dfde1f02b086024": {
          "model_module": "@jupyter-widgets/base",
          "model_name": "LayoutModel",
          "model_module_version": "1.2.0",
          "state": {
            "_model_module": "@jupyter-widgets/base",
            "_model_module_version": "1.2.0",
            "_model_name": "LayoutModel",
            "_view_count": null,
            "_view_module": "@jupyter-widgets/base",
            "_view_module_version": "1.2.0",
            "_view_name": "LayoutView",
            "align_content": null,
            "align_items": null,
            "align_self": null,
            "border": null,
            "bottom": null,
            "display": null,
            "flex": null,
            "flex_flow": null,
            "grid_area": null,
            "grid_auto_columns": null,
            "grid_auto_flow": null,
            "grid_auto_rows": null,
            "grid_column": null,
            "grid_gap": null,
            "grid_row": null,
            "grid_template_areas": null,
            "grid_template_columns": null,
            "grid_template_rows": null,
            "height": null,
            "justify_content": null,
            "justify_items": null,
            "left": null,
            "margin": null,
            "max_height": null,
            "max_width": null,
            "min_height": null,
            "min_width": null,
            "object_fit": null,
            "object_position": null,
            "order": null,
            "overflow": null,
            "overflow_x": null,
            "overflow_y": null,
            "padding": null,
            "right": null,
            "top": null,
            "visibility": null,
            "width": null
          }
        },
        "f36792676203454fb2fa07eef4c13ca4": {
          "model_module": "@jupyter-widgets/controls",
          "model_name": "DescriptionStyleModel",
          "model_module_version": "1.5.0",
          "state": {
            "_model_module": "@jupyter-widgets/controls",
            "_model_module_version": "1.5.0",
            "_model_name": "DescriptionStyleModel",
            "_view_count": null,
            "_view_module": "@jupyter-widgets/base",
            "_view_module_version": "1.2.0",
            "_view_name": "StyleView",
            "description_width": ""
          }
        }
      }
    }
  },
  "cells": [
    {
      "cell_type": "code",
      "execution_count": null,
      "metadata": {
        "colab": {
          "base_uri": "https://localhost:8080/"
        },
        "id": "HLCIYlzONv4w",
        "outputId": "dc8a9866-f3fb-4cdd-a8d4-c21c512e11d5"
      },
      "outputs": [
        {
          "output_type": "stream",
          "name": "stdout",
          "text": [
            "Drive already mounted at /content/drive; to attempt to forcibly remount, call drive.mount(\"/content/drive\", force_remount=True).\n"
          ]
        }
      ],
      "source": [
        "from google.colab import drive\n",
        "import os\n",
        "\n",
        "drive.mount('/content/drive')\n",
        "\n",
        "input_folder = '/content/drive/MyDrive/ai_techwiz_2/data'\n",
        "cropped_folder = '/content/drive/MyDrive/ai_techwiz_2/face_dataset_cropped'\n",
        "embeddings_folder = '/content/drive/MyDrive/ai_techwiz_2/face_embeddings'\n",
        "\n",
        "os.makedirs(input_folder, exist_ok=True)\n",
        "os.makedirs(cropped_folder, exist_ok=True)\n",
        "os.makedirs(embeddings_folder, exist_ok=True)"
      ]
    },
    {
      "cell_type": "code",
      "source": [
        "!pip install facenet-pytorch\n"
      ],
      "metadata": {
        "colab": {
          "base_uri": "https://localhost:8080/",
          "height": 1000
        },
        "id": "FmxrbAgfOGYI",
        "outputId": "c23132d3-043f-4591-b9d3-4ce3bae3a1b4"
      },
      "execution_count": null,
      "outputs": [
        {
          "output_type": "stream",
          "name": "stdout",
          "text": [
            "Collecting facenet-pytorch\n",
            "  Downloading facenet_pytorch-2.6.0-py3-none-any.whl.metadata (12 kB)\n",
            "Collecting numpy<2.0.0,>=1.24.0 (from facenet-pytorch)\n",
            "  Downloading numpy-1.26.4-cp312-cp312-manylinux_2_17_x86_64.manylinux2014_x86_64.whl.metadata (61 kB)\n",
            "\u001b[2K     \u001b[90m━━━━━━━━━━━━━━━━━━━━━━━━━━━━━━━━━━━━━━━━\u001b[0m \u001b[32m61.0/61.0 kB\u001b[0m \u001b[31m4.3 MB/s\u001b[0m eta \u001b[36m0:00:00\u001b[0m\n",
            "\u001b[?25hCollecting Pillow<10.3.0,>=10.2.0 (from facenet-pytorch)\n",
            "  Downloading pillow-10.2.0-cp312-cp312-manylinux_2_28_x86_64.whl.metadata (9.7 kB)\n",
            "Requirement already satisfied: requests<3.0.0,>=2.0.0 in /usr/local/lib/python3.12/dist-packages (from facenet-pytorch) (2.32.4)\n",
            "Collecting torch<2.3.0,>=2.2.0 (from facenet-pytorch)\n",
            "  Downloading torch-2.2.2-cp312-cp312-manylinux1_x86_64.whl.metadata (25 kB)\n",
            "Collecting torchvision<0.18.0,>=0.17.0 (from facenet-pytorch)\n",
            "  Downloading torchvision-0.17.2-cp312-cp312-manylinux1_x86_64.whl.metadata (6.6 kB)\n",
            "Requirement already satisfied: tqdm<5.0.0,>=4.0.0 in /usr/local/lib/python3.12/dist-packages (from facenet-pytorch) (4.67.1)\n",
            "Requirement already satisfied: charset_normalizer<4,>=2 in /usr/local/lib/python3.12/dist-packages (from requests<3.0.0,>=2.0.0->facenet-pytorch) (3.4.3)\n",
            "Requirement already satisfied: idna<4,>=2.5 in /usr/local/lib/python3.12/dist-packages (from requests<3.0.0,>=2.0.0->facenet-pytorch) (3.10)\n",
            "Requirement already satisfied: urllib3<3,>=1.21.1 in /usr/local/lib/python3.12/dist-packages (from requests<3.0.0,>=2.0.0->facenet-pytorch) (2.5.0)\n",
            "Requirement already satisfied: certifi>=2017.4.17 in /usr/local/lib/python3.12/dist-packages (from requests<3.0.0,>=2.0.0->facenet-pytorch) (2025.8.3)\n",
            "Requirement already satisfied: filelock in /usr/local/lib/python3.12/dist-packages (from torch<2.3.0,>=2.2.0->facenet-pytorch) (3.19.1)\n",
            "Requirement already satisfied: typing-extensions>=4.8.0 in /usr/local/lib/python3.12/dist-packages (from torch<2.3.0,>=2.2.0->facenet-pytorch) (4.15.0)\n",
            "Requirement already satisfied: sympy in /usr/local/lib/python3.12/dist-packages (from torch<2.3.0,>=2.2.0->facenet-pytorch) (1.13.3)\n",
            "Requirement already satisfied: networkx in /usr/local/lib/python3.12/dist-packages (from torch<2.3.0,>=2.2.0->facenet-pytorch) (3.5)\n",
            "Requirement already satisfied: jinja2 in /usr/local/lib/python3.12/dist-packages (from torch<2.3.0,>=2.2.0->facenet-pytorch) (3.1.6)\n",
            "Requirement already satisfied: fsspec in /usr/local/lib/python3.12/dist-packages (from torch<2.3.0,>=2.2.0->facenet-pytorch) (2025.3.0)\n",
            "Collecting nvidia-cuda-nvrtc-cu12==12.1.105 (from torch<2.3.0,>=2.2.0->facenet-pytorch)\n",
            "  Downloading nvidia_cuda_nvrtc_cu12-12.1.105-py3-none-manylinux1_x86_64.whl.metadata (1.5 kB)\n",
            "Collecting nvidia-cuda-runtime-cu12==12.1.105 (from torch<2.3.0,>=2.2.0->facenet-pytorch)\n",
            "  Downloading nvidia_cuda_runtime_cu12-12.1.105-py3-none-manylinux1_x86_64.whl.metadata (1.5 kB)\n",
            "Collecting nvidia-cuda-cupti-cu12==12.1.105 (from torch<2.3.0,>=2.2.0->facenet-pytorch)\n",
            "  Downloading nvidia_cuda_cupti_cu12-12.1.105-py3-none-manylinux1_x86_64.whl.metadata (1.6 kB)\n",
            "Collecting nvidia-cudnn-cu12==8.9.2.26 (from torch<2.3.0,>=2.2.0->facenet-pytorch)\n",
            "  Downloading nvidia_cudnn_cu12-8.9.2.26-py3-none-manylinux1_x86_64.whl.metadata (1.6 kB)\n",
            "Collecting nvidia-cublas-cu12==12.1.3.1 (from torch<2.3.0,>=2.2.0->facenet-pytorch)\n",
            "  Downloading nvidia_cublas_cu12-12.1.3.1-py3-none-manylinux1_x86_64.whl.metadata (1.5 kB)\n",
            "Collecting nvidia-cufft-cu12==11.0.2.54 (from torch<2.3.0,>=2.2.0->facenet-pytorch)\n",
            "  Downloading nvidia_cufft_cu12-11.0.2.54-py3-none-manylinux1_x86_64.whl.metadata (1.5 kB)\n",
            "Collecting nvidia-curand-cu12==10.3.2.106 (from torch<2.3.0,>=2.2.0->facenet-pytorch)\n",
            "  Downloading nvidia_curand_cu12-10.3.2.106-py3-none-manylinux1_x86_64.whl.metadata (1.5 kB)\n",
            "Collecting nvidia-cusolver-cu12==11.4.5.107 (from torch<2.3.0,>=2.2.0->facenet-pytorch)\n",
            "  Downloading nvidia_cusolver_cu12-11.4.5.107-py3-none-manylinux1_x86_64.whl.metadata (1.6 kB)\n",
            "Collecting nvidia-cusparse-cu12==12.1.0.106 (from torch<2.3.0,>=2.2.0->facenet-pytorch)\n",
            "  Downloading nvidia_cusparse_cu12-12.1.0.106-py3-none-manylinux1_x86_64.whl.metadata (1.6 kB)\n",
            "Collecting nvidia-nccl-cu12==2.19.3 (from torch<2.3.0,>=2.2.0->facenet-pytorch)\n",
            "  Downloading nvidia_nccl_cu12-2.19.3-py3-none-manylinux1_x86_64.whl.metadata (1.8 kB)\n",
            "Collecting nvidia-nvtx-cu12==12.1.105 (from torch<2.3.0,>=2.2.0->facenet-pytorch)\n",
            "  Downloading nvidia_nvtx_cu12-12.1.105-py3-none-manylinux1_x86_64.whl.metadata (1.7 kB)\n",
            "Requirement already satisfied: nvidia-nvjitlink-cu12 in /usr/local/lib/python3.12/dist-packages (from nvidia-cusolver-cu12==11.4.5.107->torch<2.3.0,>=2.2.0->facenet-pytorch) (12.6.85)\n",
            "Requirement already satisfied: MarkupSafe>=2.0 in /usr/local/lib/python3.12/dist-packages (from jinja2->torch<2.3.0,>=2.2.0->facenet-pytorch) (3.0.2)\n",
            "Requirement already satisfied: mpmath<1.4,>=1.1.0 in /usr/local/lib/python3.12/dist-packages (from sympy->torch<2.3.0,>=2.2.0->facenet-pytorch) (1.3.0)\n",
            "Downloading facenet_pytorch-2.6.0-py3-none-any.whl (1.9 MB)\n",
            "\u001b[2K   \u001b[90m━━━━━━━━━━━━━━━━━━━━━━━━━━━━━━━━━━━━━━━━\u001b[0m \u001b[32m1.9/1.9 MB\u001b[0m \u001b[31m71.2 MB/s\u001b[0m eta \u001b[36m0:00:00\u001b[0m\n",
            "\u001b[?25hDownloading numpy-1.26.4-cp312-cp312-manylinux_2_17_x86_64.manylinux2014_x86_64.whl (18.0 MB)\n",
            "\u001b[2K   \u001b[90m━━━━━━━━━━━━━━━━━━━━━━━━━━━━━━━━━━━━━━━━\u001b[0m \u001b[32m18.0/18.0 MB\u001b[0m \u001b[31m65.2 MB/s\u001b[0m eta \u001b[36m0:00:00\u001b[0m\n",
            "\u001b[?25hDownloading pillow-10.2.0-cp312-cp312-manylinux_2_28_x86_64.whl (4.5 MB)\n",
            "\u001b[2K   \u001b[90m━━━━━━━━━━━━━━━━━━━━━━━━━━━━━━━━━━━━━━━━\u001b[0m \u001b[32m4.5/4.5 MB\u001b[0m \u001b[31m77.3 MB/s\u001b[0m eta \u001b[36m0:00:00\u001b[0m\n",
            "\u001b[?25hDownloading torch-2.2.2-cp312-cp312-manylinux1_x86_64.whl (755.5 MB)\n",
            "\u001b[2K   \u001b[90m━━━━━━━━━━━━━━━━━━━━━━━━━━━━━━━━━━━━━━━\u001b[0m \u001b[32m755.5/755.5 MB\u001b[0m \u001b[31m819.4 kB/s\u001b[0m eta \u001b[36m0:00:00\u001b[0m\n",
            "\u001b[?25hDownloading nvidia_cublas_cu12-12.1.3.1-py3-none-manylinux1_x86_64.whl (410.6 MB)\n",
            "\u001b[2K   \u001b[90m━━━━━━━━━━━━━━━━━━━━━━━━━━━━━━━━━━━━━━━━\u001b[0m \u001b[32m410.6/410.6 MB\u001b[0m \u001b[31m4.1 MB/s\u001b[0m eta \u001b[36m0:00:00\u001b[0m\n",
            "\u001b[?25hDownloading nvidia_cuda_cupti_cu12-12.1.105-py3-none-manylinux1_x86_64.whl (14.1 MB)\n",
            "\u001b[2K   \u001b[90m━━━━━━━━━━━━━━━━━━━━━━━━━━━━━━━━━━━━━━━━\u001b[0m \u001b[32m14.1/14.1 MB\u001b[0m \u001b[31m51.1 MB/s\u001b[0m eta \u001b[36m0:00:00\u001b[0m\n",
            "\u001b[?25hDownloading nvidia_cuda_nvrtc_cu12-12.1.105-py3-none-manylinux1_x86_64.whl (23.7 MB)\n",
            "\u001b[2K   \u001b[90m━━━━━━━━━━━━━━━━━━━━━━━━━━━━━━━━━━━━━━━━\u001b[0m \u001b[32m23.7/23.7 MB\u001b[0m \u001b[31m30.7 MB/s\u001b[0m eta \u001b[36m0:00:00\u001b[0m\n",
            "\u001b[?25hDownloading nvidia_cuda_runtime_cu12-12.1.105-py3-none-manylinux1_x86_64.whl (823 kB)\n",
            "\u001b[2K   \u001b[90m━━━━━━━━━━━━━━━━━━━━━━━━━━━━━━━━━━━━━━━━\u001b[0m \u001b[32m823.6/823.6 kB\u001b[0m \u001b[31m32.1 MB/s\u001b[0m eta \u001b[36m0:00:00\u001b[0m\n",
            "\u001b[?25hDownloading nvidia_cudnn_cu12-8.9.2.26-py3-none-manylinux1_x86_64.whl (731.7 MB)\n",
            "\u001b[2K   \u001b[90m━━━━━━━━━━━━━━━━━━━━━━━━━━━━━━━━━━━━━━━━\u001b[0m \u001b[32m731.7/731.7 MB\u001b[0m \u001b[31m2.6 MB/s\u001b[0m eta \u001b[36m0:00:00\u001b[0m\n",
            "\u001b[?25hDownloading nvidia_cufft_cu12-11.0.2.54-py3-none-manylinux1_x86_64.whl (121.6 MB)\n",
            "\u001b[2K   \u001b[90m━━━━━━━━━━━━━━━━━━━━━━━━━━━━━━━━━━━━━━━━\u001b[0m \u001b[32m121.6/121.6 MB\u001b[0m \u001b[31m7.7 MB/s\u001b[0m eta \u001b[36m0:00:00\u001b[0m\n",
            "\u001b[?25hDownloading nvidia_curand_cu12-10.3.2.106-py3-none-manylinux1_x86_64.whl (56.5 MB)\n",
            "\u001b[2K   \u001b[90m━━━━━━━━━━━━━━━━━━━━━━━━━━━━━━━━━━━━━━━━\u001b[0m \u001b[32m56.5/56.5 MB\u001b[0m \u001b[31m12.3 MB/s\u001b[0m eta \u001b[36m0:00:00\u001b[0m\n",
            "\u001b[?25hDownloading nvidia_cusolver_cu12-11.4.5.107-py3-none-manylinux1_x86_64.whl (124.2 MB)\n",
            "\u001b[2K   \u001b[90m━━━━━━━━━━━━━━━━━━━━━━━━━━━━━━━━━━━━━━━━\u001b[0m \u001b[32m124.2/124.2 MB\u001b[0m \u001b[31m7.7 MB/s\u001b[0m eta \u001b[36m0:00:00\u001b[0m\n",
            "\u001b[?25hDownloading nvidia_cusparse_cu12-12.1.0.106-py3-none-manylinux1_x86_64.whl (196.0 MB)\n",
            "\u001b[2K   \u001b[90m━━━━━━━━━━━━━━━━━━━━━━━━━━━━━━━━━━━━━━━━\u001b[0m \u001b[32m196.0/196.0 MB\u001b[0m \u001b[31m5.8 MB/s\u001b[0m eta \u001b[36m0:00:00\u001b[0m\n",
            "\u001b[?25hDownloading nvidia_nccl_cu12-2.19.3-py3-none-manylinux1_x86_64.whl (166.0 MB)\n",
            "\u001b[2K   \u001b[90m━━━━━━━━━━━━━━━━━━━━━━━━━━━━━━━━━━━━━━━━\u001b[0m \u001b[32m166.0/166.0 MB\u001b[0m \u001b[31m7.5 MB/s\u001b[0m eta \u001b[36m0:00:00\u001b[0m\n",
            "\u001b[?25hDownloading nvidia_nvtx_cu12-12.1.105-py3-none-manylinux1_x86_64.whl (99 kB)\n",
            "\u001b[2K   \u001b[90m━━━━━━━━━━━━━━━━━━━━━━━━━━━━━━━━━━━━━━━━\u001b[0m \u001b[32m99.1/99.1 kB\u001b[0m \u001b[31m8.5 MB/s\u001b[0m eta \u001b[36m0:00:00\u001b[0m\n",
            "\u001b[?25hDownloading torchvision-0.17.2-cp312-cp312-manylinux1_x86_64.whl (6.9 MB)\n",
            "\u001b[2K   \u001b[90m━━━━━━━━━━━━━━━━━━━━━━━━━━━━━━━━━━━━━━━━\u001b[0m \u001b[32m6.9/6.9 MB\u001b[0m \u001b[31m75.0 MB/s\u001b[0m eta \u001b[36m0:00:00\u001b[0m\n",
            "\u001b[?25hInstalling collected packages: Pillow, nvidia-nvtx-cu12, nvidia-nccl-cu12, nvidia-cusparse-cu12, nvidia-curand-cu12, nvidia-cufft-cu12, nvidia-cuda-runtime-cu12, nvidia-cuda-nvrtc-cu12, nvidia-cuda-cupti-cu12, nvidia-cublas-cu12, numpy, nvidia-cusolver-cu12, nvidia-cudnn-cu12, torch, torchvision, facenet-pytorch\n",
            "  Attempting uninstall: Pillow\n",
            "    Found existing installation: pillow 11.3.0\n",
            "    Uninstalling pillow-11.3.0:\n",
            "      Successfully uninstalled pillow-11.3.0\n",
            "  Attempting uninstall: nvidia-nvtx-cu12\n",
            "    Found existing installation: nvidia-nvtx-cu12 12.6.77\n",
            "    Uninstalling nvidia-nvtx-cu12-12.6.77:\n",
            "      Successfully uninstalled nvidia-nvtx-cu12-12.6.77\n",
            "  Attempting uninstall: nvidia-nccl-cu12\n",
            "    Found existing installation: nvidia-nccl-cu12 2.27.3\n",
            "    Uninstalling nvidia-nccl-cu12-2.27.3:\n",
            "      Successfully uninstalled nvidia-nccl-cu12-2.27.3\n",
            "  Attempting uninstall: nvidia-cusparse-cu12\n",
            "    Found existing installation: nvidia-cusparse-cu12 12.5.4.2\n",
            "    Uninstalling nvidia-cusparse-cu12-12.5.4.2:\n",
            "      Successfully uninstalled nvidia-cusparse-cu12-12.5.4.2\n",
            "  Attempting uninstall: nvidia-curand-cu12\n",
            "    Found existing installation: nvidia-curand-cu12 10.3.7.77\n",
            "    Uninstalling nvidia-curand-cu12-10.3.7.77:\n",
            "      Successfully uninstalled nvidia-curand-cu12-10.3.7.77\n",
            "  Attempting uninstall: nvidia-cufft-cu12\n",
            "    Found existing installation: nvidia-cufft-cu12 11.3.0.4\n",
            "    Uninstalling nvidia-cufft-cu12-11.3.0.4:\n",
            "      Successfully uninstalled nvidia-cufft-cu12-11.3.0.4\n",
            "  Attempting uninstall: nvidia-cuda-runtime-cu12\n",
            "    Found existing installation: nvidia-cuda-runtime-cu12 12.6.77\n",
            "    Uninstalling nvidia-cuda-runtime-cu12-12.6.77:\n",
            "      Successfully uninstalled nvidia-cuda-runtime-cu12-12.6.77\n",
            "  Attempting uninstall: nvidia-cuda-nvrtc-cu12\n",
            "    Found existing installation: nvidia-cuda-nvrtc-cu12 12.6.77\n",
            "    Uninstalling nvidia-cuda-nvrtc-cu12-12.6.77:\n",
            "      Successfully uninstalled nvidia-cuda-nvrtc-cu12-12.6.77\n",
            "  Attempting uninstall: nvidia-cuda-cupti-cu12\n",
            "    Found existing installation: nvidia-cuda-cupti-cu12 12.6.80\n",
            "    Uninstalling nvidia-cuda-cupti-cu12-12.6.80:\n",
            "      Successfully uninstalled nvidia-cuda-cupti-cu12-12.6.80\n",
            "  Attempting uninstall: nvidia-cublas-cu12\n",
            "    Found existing installation: nvidia-cublas-cu12 12.6.4.1\n",
            "    Uninstalling nvidia-cublas-cu12-12.6.4.1:\n",
            "      Successfully uninstalled nvidia-cublas-cu12-12.6.4.1\n",
            "  Attempting uninstall: numpy\n",
            "    Found existing installation: numpy 2.0.2\n",
            "    Uninstalling numpy-2.0.2:\n",
            "      Successfully uninstalled numpy-2.0.2\n",
            "  Attempting uninstall: nvidia-cusolver-cu12\n",
            "    Found existing installation: nvidia-cusolver-cu12 11.7.1.2\n",
            "    Uninstalling nvidia-cusolver-cu12-11.7.1.2:\n",
            "      Successfully uninstalled nvidia-cusolver-cu12-11.7.1.2\n",
            "  Attempting uninstall: nvidia-cudnn-cu12\n",
            "    Found existing installation: nvidia-cudnn-cu12 9.10.2.21\n",
            "    Uninstalling nvidia-cudnn-cu12-9.10.2.21:\n",
            "      Successfully uninstalled nvidia-cudnn-cu12-9.10.2.21\n",
            "  Attempting uninstall: torch\n",
            "    Found existing installation: torch 2.8.0+cu126\n",
            "    Uninstalling torch-2.8.0+cu126:\n",
            "      Successfully uninstalled torch-2.8.0+cu126\n",
            "  Attempting uninstall: torchvision\n",
            "    Found existing installation: torchvision 0.23.0+cu126\n",
            "    Uninstalling torchvision-0.23.0+cu126:\n",
            "      Successfully uninstalled torchvision-0.23.0+cu126\n",
            "\u001b[31mERROR: pip's dependency resolver does not currently take into account all the packages that are installed. This behaviour is the source of the following dependency conflicts.\n",
            "opencv-contrib-python 4.12.0.88 requires numpy<2.3.0,>=2; python_version >= \"3.9\", but you have numpy 1.26.4 which is incompatible.\n",
            "opencv-python 4.12.0.88 requires numpy<2.3.0,>=2; python_version >= \"3.9\", but you have numpy 1.26.4 which is incompatible.\n",
            "thinc 8.3.6 requires numpy<3.0.0,>=2.0.0, but you have numpy 1.26.4 which is incompatible.\n",
            "opencv-python-headless 4.12.0.88 requires numpy<2.3.0,>=2; python_version >= \"3.9\", but you have numpy 1.26.4 which is incompatible.\n",
            "torchaudio 2.8.0+cu126 requires torch==2.8.0, but you have torch 2.2.2 which is incompatible.\u001b[0m\u001b[31m\n",
            "\u001b[0mSuccessfully installed Pillow-10.2.0 facenet-pytorch-2.6.0 numpy-1.26.4 nvidia-cublas-cu12-12.1.3.1 nvidia-cuda-cupti-cu12-12.1.105 nvidia-cuda-nvrtc-cu12-12.1.105 nvidia-cuda-runtime-cu12-12.1.105 nvidia-cudnn-cu12-8.9.2.26 nvidia-cufft-cu12-11.0.2.54 nvidia-curand-cu12-10.3.2.106 nvidia-cusolver-cu12-11.4.5.107 nvidia-cusparse-cu12-12.1.0.106 nvidia-nccl-cu12-2.19.3 nvidia-nvtx-cu12-12.1.105 torch-2.2.2 torchvision-0.17.2\n"
          ]
        },
        {
          "output_type": "display_data",
          "data": {
            "application/vnd.colab-display-data+json": {
              "pip_warning": {
                "packages": [
                  "numpy",
                  "torchgen"
                ]
              },
              "id": "8f9b5376f65d4d38b0572fe1d1e86b70"
            }
          },
          "metadata": {}
        }
      ]
    },
    {
      "cell_type": "code",
      "source": [
        "!pip install hnswlib\n"
      ],
      "metadata": {
        "colab": {
          "base_uri": "https://localhost:8080/"
        },
        "id": "Zhshc-a6HFoU",
        "outputId": "243a00da-2b5b-4738-df9a-9e0e74573cda"
      },
      "execution_count": null,
      "outputs": [
        {
          "output_type": "stream",
          "name": "stdout",
          "text": [
            "Requirement already satisfied: hnswlib in /usr/local/lib/python3.12/dist-packages (0.8.0)\n",
            "Requirement already satisfied: numpy in /usr/local/lib/python3.12/dist-packages (from hnswlib) (1.26.4)\n"
          ]
        }
      ]
    },
    {
      "cell_type": "code",
      "source": [
        "!pip install faiss-cpu\n"
      ],
      "metadata": {
        "colab": {
          "base_uri": "https://localhost:8080/"
        },
        "id": "0FxLAl2c4G3h",
        "outputId": "d736d405-9403-4a3c-c19e-b7477dd80bbb"
      },
      "execution_count": null,
      "outputs": [
        {
          "output_type": "stream",
          "name": "stdout",
          "text": [
            "Collecting faiss-cpu\n",
            "  Downloading faiss_cpu-1.12.0-cp312-cp312-manylinux_2_27_x86_64.manylinux_2_28_x86_64.whl.metadata (5.1 kB)\n",
            "Requirement already satisfied: numpy<3.0,>=1.25.0 in /usr/local/lib/python3.12/dist-packages (from faiss-cpu) (1.26.4)\n",
            "Requirement already satisfied: packaging in /usr/local/lib/python3.12/dist-packages (from faiss-cpu) (25.0)\n",
            "Downloading faiss_cpu-1.12.0-cp312-cp312-manylinux_2_27_x86_64.manylinux_2_28_x86_64.whl (31.4 MB)\n",
            "\u001b[2K   \u001b[90m━━━━━━━━━━━━━━━━━━━━━━━━━━━━━━━━━━━━━━━━\u001b[0m \u001b[32m31.4/31.4 MB\u001b[0m \u001b[31m31.1 MB/s\u001b[0m eta \u001b[36m0:00:00\u001b[0m\n",
            "\u001b[?25hInstalling collected packages: faiss-cpu\n",
            "Successfully installed faiss-cpu-1.12.0\n"
          ]
        }
      ]
    },
    {
      "cell_type": "code",
      "source": [
        "\n",
        "import os\n",
        "import torch\n",
        "import numpy as np\n",
        "from PIL import Image, ImageFilter, ImageOps\n",
        "from facenet_pytorch import MTCNN, InceptionResnetV1, extract_face, fixed_image_standardization\n",
        "from tqdm import tqdm\n",
        "import joblib\n",
        "import cv2\n"
      ],
      "metadata": {
        "id": "t3EAnj4QOG5A"
      },
      "execution_count": null,
      "outputs": []
    },
    {
      "cell_type": "markdown",
      "source": [
        "# **Data preprocessing**"
      ],
      "metadata": {
        "id": "7evg7p3dh3RN"
      }
    },
    {
      "cell_type": "code",
      "source": [
        "\n",
        "class FaceRecognitionConfig:\n",
        "    DEVICE = torch.device('cuda:0' if torch.cuda.is_available() else 'cpu')\n",
        "    IMAGE_SIZE = 160\n",
        "    MARGIN = 20\n",
        "    MIN_FACE_SIZE = 20\n",
        "    THRESHOLDS = [0.6, 0.7, 0.7]\n",
        "    BATCH_SIZE = 32\n",
        "\n",
        "def ensure_dir(path: str):\n",
        "    os.makedirs(path, exist_ok=True)\n",
        "\n"
      ],
      "metadata": {
        "id": "BFeTLLM9OWbg"
      },
      "execution_count": null,
      "outputs": []
    },
    {
      "cell_type": "code",
      "source": [
        "\n",
        "def get_mtcnn(device=FaceRecognitionConfig.DEVICE, image_size=160, margin=20) -> MTCNN:\n",
        "    return MTCNN(\n",
        "        image_size=image_size,\n",
        "        margin=margin,\n",
        "        min_face_size=FaceRecognitionConfig.MIN_FACE_SIZE,\n",
        "        thresholds=FaceRecognitionConfig.THRESHOLDS,\n",
        "        factor=0.709,\n",
        "        post_process=False,\n",
        "        device=device,\n",
        "        keep_all=False,\n",
        "        select_largest=True\n",
        "    )\n",
        "\n",
        "def get_resnet(device=FaceRecognitionConfig.DEVICE, pretrained='vggface2') -> InceptionResnetV1:\n",
        "    return InceptionResnetV1(pretrained=pretrained).eval().to(device)\n",
        "\n",
        "mtcnn = get_mtcnn()\n",
        "resnet = get_resnet()\n",
        "print(\"Models ready. Device:\", FaceRecognitionConfig.DEVICE)\n"
      ],
      "metadata": {
        "colab": {
          "base_uri": "https://localhost:8080/",
          "height": 67,
          "referenced_widgets": [
            "0636db83af0a407d80f8e3de08eeadaa",
            "d9d42eef1cb443b4a3b252b69c5707aa",
            "ac8ee713e13044eaa3d38a281e7a37bf",
            "422ba1d0b29e47bb9c4b06c98c831996",
            "88b46bc50d5f42678cde09254f98e77b",
            "b5b948c859954cb29741295c6d91917b",
            "6816d46ab9c34e57862b28ea5f789408",
            "4a8eeccb9fa8462287f0d369a54dd9b6",
            "950e9fd619774f2182f46b5277fe4431",
            "6e7f500fcf9d44278dfde1f02b086024",
            "f36792676203454fb2fa07eef4c13ca4"
          ]
        },
        "id": "S3cgFKG4OkAZ",
        "outputId": "5a699788-b541-4c28-c41e-8d5dd69c9b69"
      },
      "execution_count": null,
      "outputs": [
        {
          "output_type": "display_data",
          "data": {
            "text/plain": [
              "  0%|          | 0.00/107M [00:00<?, ?B/s]"
            ],
            "application/vnd.jupyter.widget-view+json": {
              "version_major": 2,
              "version_minor": 0,
              "model_id": "0636db83af0a407d80f8e3de08eeadaa"
            }
          },
          "metadata": {}
        },
        {
          "output_type": "stream",
          "name": "stdout",
          "text": [
            "Models ready. Device: cpu\n"
          ]
        }
      ]
    },
    {
      "cell_type": "markdown",
      "source": [
        "## **Face Detection**"
      ],
      "metadata": {
        "id": "wusRSbvTh6Z-"
      }
    },
    {
      "cell_type": "code",
      "source": [
        "import torch\n",
        "\n",
        "def process_dataset(input_root: str, output_root: str, mtcnn: MTCNN = None):\n",
        "\n",
        "    if mtcnn is None:\n",
        "        mtcnn = get_mtcnn()\n",
        "\n",
        "    ensure_dir(output_root)\n",
        "    persons = [d for d in os.listdir(input_root)\n",
        "               if os.path.isdir(os.path.join(input_root, d)) and not d.startswith('.')]\n",
        "\n",
        "    for person in persons:\n",
        "        person_input_dir = os.path.join(input_root, person)\n",
        "        person_output_dir = os.path.join(output_root, person)\n",
        "        ensure_dir(person_output_dir)\n",
        "\n",
        "        img_list = [f for f in os.listdir(person_input_dir) if f.lower().endswith(('.jpg', '.jpeg', '.png'))]\n",
        "\n",
        "        for img_name in tqdm(img_list, desc=f\"Processing {person}\", ncols=100):\n",
        "            img_path = os.path.join(person_input_dir, img_name)\n",
        "            pil_img = Image.open(img_path).convert('RGB')\n",
        "\n",
        "            face, prob = mtcnn(pil_img, return_prob=True)\n",
        "            if face is None:\n",
        "                print(f\"Không tìm thấy mặt trong ảnh {img_path}\")\n",
        "                continue\n",
        "            ensure_dir(person_output_dir)\n",
        "\n",
        "            tensor_path = os.path.join(person_output_dir, img_name.replace(\".png\", \".pt\"))\n",
        "            torch.save(face, tensor_path)\n",
        "\n",
        "    print(\"Xử lý dataset xong (lưu tensor)!\")\n",
        "\n",
        "\n",
        "process_dataset(input_folder, cropped_folder, mtcnn)"
      ],
      "metadata": {
        "colab": {
          "base_uri": "https://localhost:8080/"
        },
        "id": "vrKt6HExQWVx",
        "outputId": "66276ae4-83b9-4347-c590-6ab945e3b0fd"
      },
      "execution_count": null,
      "outputs": [
        {
          "output_type": "stream",
          "name": "stderr",
          "text": [
            "Processing Nguyen_Van_Tuan: 100%|█████████████████████████████████| 106/106 [00:43<00:00,  2.45it/s]\n",
            "Processing Nguyen_Viet_Quoc_An: 100%|█████████████████████████████| 101/101 [00:42<00:00,  2.35it/s]\n",
            "Processing Le_Duc_Nguyen: 100%|███████████████████████████████████| 100/100 [01:38<00:00,  1.02it/s]\n",
            "Processing Nguyen_Phong_Hai: 100%|██████████████████████████████████| 99/99 [00:44<00:00,  2.21it/s]\n",
            "Processing Nguyen_Duy_Hoang: 100%|████████████████████████████████| 101/101 [01:25<00:00,  1.18it/s]\n",
            "Processing Nguyen_Duc_Phong: 100%|██████████████████████████████████| 95/95 [01:31<00:00,  1.04it/s]\n",
            "Processing Nguyen_Phu_Nguyen: 100%|███████████████████████████████| 105/105 [00:39<00:00,  2.65it/s]\n",
            "Processing Nguyen_Van_Minh: 100%|█████████████████████████████████| 101/101 [00:46<00:00,  2.16it/s]\n",
            "Processing Nguyen_Ha_Phuong_Uyen: 100%|███████████████████████████| 107/107 [00:30<00:00,  3.53it/s]\n",
            "Processing Nguyen_The_Truong: 100%|█████████████████████████████████| 91/91 [00:24<00:00,  3.72it/s]\n",
            "Processing Nguyen_Thi_Hong_Mai:  69%|████████████████████▋         | 99/144 [00:24<00:08,  5.38it/s]"
          ]
        },
        {
          "output_type": "stream",
          "name": "stdout",
          "text": [
            "Không tìm thấy mặt trong ảnh /content/drive/MyDrive/ai_techwiz_2/data/Nguyen_Thi_Hong_Mai/SV_0011_106.png\n"
          ]
        },
        {
          "output_type": "stream",
          "name": "stderr",
          "text": [
            "Processing Nguyen_Thi_Hong_Mai: 100%|█████████████████████████████| 144/144 [00:35<00:00,  4.04it/s]\n",
            "Processing Nguyen_Thi_Cam_Ly:  89%|█████████████████████████████▍   | 65/73 [00:15<00:01,  5.42it/s]"
          ]
        },
        {
          "output_type": "stream",
          "name": "stdout",
          "text": [
            "Không tìm thấy mặt trong ảnh /content/drive/MyDrive/ai_techwiz_2/data/Nguyen_Thi_Cam_Ly/SV_0010_069.png\n",
            "Không tìm thấy mặt trong ảnh /content/drive/MyDrive/ai_techwiz_2/data/Nguyen_Thi_Cam_Ly/SV_0010_070.png\n"
          ]
        },
        {
          "output_type": "stream",
          "name": "stderr",
          "text": [
            "Processing Nguyen_Thi_Cam_Ly:  95%|███████████████████████████████▏ | 69/73 [00:16<00:00,  5.78it/s]"
          ]
        },
        {
          "output_type": "stream",
          "name": "stdout",
          "text": [
            "Không tìm thấy mặt trong ảnh /content/drive/MyDrive/ai_techwiz_2/data/Nguyen_Thi_Cam_Ly/SV_0010_068.png\n"
          ]
        },
        {
          "output_type": "stream",
          "name": "stderr",
          "text": [
            "Processing Nguyen_Thi_Cam_Ly: 100%|█████████████████████████████████| 73/73 [00:17<00:00,  4.29it/s]\n"
          ]
        },
        {
          "output_type": "stream",
          "name": "stdout",
          "text": [
            "Không tìm thấy mặt trong ảnh /content/drive/MyDrive/ai_techwiz_2/data/Nguyen_Thi_Cam_Ly/SV_0010_067.png\n",
            "Không tìm thấy mặt trong ảnh /content/drive/MyDrive/ai_techwiz_2/data/Nguyen_Thi_Cam_Ly/SV_0010_071.png\n"
          ]
        },
        {
          "output_type": "stream",
          "name": "stderr",
          "text": [
            "Processing Nguyen_Thi_Phuong_Thao: 100%|████████████████████████████| 97/97 [00:38<00:00,  2.51it/s]\n",
            "Processing Mai_Thanh_Thu: 100%|█████████████████████████████████████| 91/91 [00:36<00:00,  2.51it/s]"
          ]
        },
        {
          "output_type": "stream",
          "name": "stdout",
          "text": [
            "Xử lý dataset xong (lưu tensor)!\n"
          ]
        },
        {
          "output_type": "stream",
          "name": "stderr",
          "text": [
            "\n"
          ]
        }
      ]
    },
    {
      "cell_type": "markdown",
      "source": [
        "## **Face Embedding**"
      ],
      "metadata": {
        "id": "Sn24dDWfiB1Z"
      }
    },
    {
      "cell_type": "code",
      "source": [
        "NAME_TO_MSV = {\n",
        "    \"Nguyen_Van_Tuan\": \"SV_0007\",\n",
        "    \"Nguyen_Viet_Quoc_An\": \"SV_0008\",\n",
        "    \"Nguyen_Van_Minh\": \"SV_0006\",\n",
        "    \"Nguyen_Thi_Phuong_Thao\": \"SV_0013\",\n",
        "    \"Nguyen_Thi_Hong_Mai\": \"SV_0011\",\n",
        "    \"Nguyen_Thi_Cam_Ly\": \"SV_0010\",\n",
        "    \"Nguyen_The_Truong\": \"SV_0009\",\n",
        "    \"Nguyen_Phu_Nguyen\": \"SV_0005\",\n",
        "    \"Nguyen_Phong_Hai\": \"SV_0004\",\n",
        "    \"Nguyen_Ha_Phuong_Uyen\": \"SV_0012\",\n",
        "    \"Nguyen_Duy_Hoang\": \"SV_0001\",\n",
        "    \"Nguyen_Duc_Phong\": \"SV_0002\",\n",
        "    \"Mai_Thanh_Thu\": \"SV_0014\",\n",
        "    \"Le_Duc_Nguyen\": \"SV_0003\"\n",
        "\n",
        "}\n"
      ],
      "metadata": {
        "id": "5zpNTukggFDt"
      },
      "execution_count": null,
      "outputs": []
    },
    {
      "cell_type": "code",
      "source": [
        "import os\n",
        "import numpy as np\n",
        "import torch\n",
        "from tqdm import tqdm\n",
        "from PIL import Image\n",
        "\n",
        "def pil_to_tensor_standard(pil_img: Image.Image) -> torch.Tensor:\n",
        "\n",
        "    arr = np.asarray(pil_img).astype(np.float32) / 255.0\n",
        "    t = torch.from_numpy(arr.transpose(2, 0, 1)).float()\n",
        "    return fixed_image_standardization(t)\n",
        "\n",
        "\n",
        "def compute_embeddings_all(\n",
        "    cropped_root: str,\n",
        "    embeddings_root: str,\n",
        "    resnet: InceptionResnetV1 = None,\n",
        "    batch_size: int = 32,\n",
        "    name_to_msv: dict = None\n",
        "):\n",
        "    if resnet is None:\n",
        "        resnet = get_resnet()\n",
        "\n",
        "    registry = {}\n",
        "\n",
        "    persons = [d for d in os.listdir(cropped_root) if os.path.isdir(os.path.join(cropped_root, d))]\n",
        "\n",
        "    for person in tqdm(persons, desc=\"Compute embeddings (all)\"):\n",
        "        person_dir = os.path.join(cropped_root, person)\n",
        "        tensor_files = [f for f in os.listdir(person_dir) if f.lower().endswith('.pt')]\n",
        "\n",
        "        if not tensor_files:\n",
        "            continue\n",
        "\n",
        "        face_tensors = []\n",
        "        for tf in tensor_files:\n",
        "            tensor_path = os.path.join(person_dir, tf)\n",
        "            face = torch.load(tensor_path)              # [3,H,W], float [0,1]\n",
        "            face = fixed_image_standardization(face)    # [-1,1]\n",
        "            face_tensors.append(face)\n",
        "\n",
        "        face_stack = torch.stack(face_tensors)  # [N,3,H,W]\n",
        "\n",
        "\n",
        "        all_embeddings = []\n",
        "        with torch.no_grad():\n",
        "            for i in range(0, len(face_stack), batch_size):\n",
        "                batch = face_stack[i:i+batch_size]\n",
        "                emb = resnet(batch)  # [B,512]\n",
        "                all_embeddings.append(emb)\n",
        "        all_embeddings = torch.cat(all_embeddings, dim=0)  # [N,512]\n",
        "\n",
        "        student_id = name_to_msv.get(person, person) if name_to_msv else person\n",
        "\n",
        "        registry[student_id] = all_embeddings.cpu().numpy()\n",
        "\n",
        "    os.makedirs(embeddings_root, exist_ok=True)\n",
        "    np.savez(os.path.join(embeddings_root, \"embeddings_all.npz\"), **registry)\n",
        "\n",
        "\n",
        "compute_embeddings_all(cropped_folder, embeddings_folder, resnet, name_to_msv=NAME_TO_MSV)"
      ],
      "metadata": {
        "id": "bXgqPOlXf4uP"
      },
      "execution_count": null,
      "outputs": []
    },
    {
      "cell_type": "markdown",
      "source": [
        "# **Train/test split**"
      ],
      "metadata": {
        "id": "vbbjwOIbgTrz"
      }
    },
    {
      "cell_type": "code",
      "source": [
        "embeddings_data = '/content/drive/MyDrive/ai_techwiz_2/face_embeddings'\n",
        "data = np.load(os.path.join(embeddings_data, \"embeddings_all.npz\"))\n",
        "dict1 = {k: data[k] for k in data.files}"
      ],
      "metadata": {
        "id": "k1q-2-JIClWx"
      },
      "execution_count": null,
      "outputs": []
    },
    {
      "cell_type": "code",
      "source": [
        "dict1.keys()"
      ],
      "metadata": {
        "colab": {
          "base_uri": "https://localhost:8080/"
        },
        "id": "5FSc-_u6N80-",
        "outputId": "666e8eb1-92d8-421b-8636-f42a1aeb43cd"
      },
      "execution_count": null,
      "outputs": [
        {
          "output_type": "execute_result",
          "data": {
            "text/plain": [
              "dict_keys(['SV_0007', 'SV_0008', 'SV_0003', 'SV_0004', 'SV_0001', 'SV_0002', 'SV_0005', 'SV_0006', 'SV_0012', 'SV_0009', 'SV_0011', 'SV_0010', 'SV_0013', 'SV_0014'])"
            ]
          },
          "metadata": {},
          "execution_count": 6
        }
      ]
    },
    {
      "cell_type": "code",
      "source": [
        "sorted_dict = dict(sorted(dict1.items()))\n",
        "sorted_dict.keys()"
      ],
      "metadata": {
        "colab": {
          "base_uri": "https://localhost:8080/"
        },
        "id": "NmpLPcxBOLBt",
        "outputId": "3fa77170-29ec-4c0e-8472-150a297c02d6"
      },
      "execution_count": null,
      "outputs": [
        {
          "output_type": "execute_result",
          "data": {
            "text/plain": [
              "dict_keys(['SV_0001', 'SV_0002', 'SV_0003', 'SV_0004', 'SV_0005', 'SV_0006', 'SV_0007', 'SV_0008', 'SV_0009', 'SV_0010', 'SV_0011', 'SV_0012', 'SV_0013', 'SV_0014'])"
            ]
          },
          "metadata": {},
          "execution_count": 7
        }
      ]
    },
    {
      "cell_type": "code",
      "source": [
        "from sklearn.model_selection import train_test_split\n",
        "\n",
        "data = sorted_dict\n",
        "X, y = [], []\n",
        "\n",
        "label_map, reverse_map = {}, {}\n",
        "\n",
        "label_counter = 1\n",
        "\n",
        "for student_id, vectors in data.items():\n",
        "    if student_id not in label_map:\n",
        "        label_map[student_id] = label_counter\n",
        "        reverse_map[label_counter] = student_id\n",
        "        label_counter += 1\n",
        "    for v in vectors:\n",
        "        X.append(v)\n",
        "        y.append(label_map[student_id])\n",
        "\n",
        "X = np.array(X).astype('float32')\n",
        "y = np.array(y).astype('int')\n",
        "\n",
        "X_train, X_test, y_train, y_test = train_test_split(\n",
        "    X, y, test_size=0.2, stratify=y, random_state=42\n",
        ")"
      ],
      "metadata": {
        "id": "9TePnR2qgaxi"
      },
      "execution_count": null,
      "outputs": []
    },
    {
      "cell_type": "markdown",
      "source": [
        "# **Cosine**"
      ],
      "metadata": {
        "id": "q_OKjxiTfjP6"
      }
    },
    {
      "cell_type": "code",
      "source": [
        "from sklearn.metrics.pairwise import cosine_similarity\n",
        "from sklearn.metrics import accuracy_score\n",
        "\n",
        "y_pred = []\n",
        "for x in X_test:\n",
        "    sims = cosine_similarity([x], X_train)[0]\n",
        "    idx_max = np.argmax(sims)\n",
        "    y_pred.append(y_train[idx_max])\n",
        "\n",
        "acc = accuracy_score(y_test, y_pred)\n",
        "print(\"Accuracy:\", acc)"
      ],
      "metadata": {
        "colab": {
          "base_uri": "https://localhost:8080/"
        },
        "id": "AY12nejU_cG1",
        "outputId": "8ff09f04-3b22-4700-ca83-1bbd61e3c619"
      },
      "execution_count": null,
      "outputs": [
        {
          "output_type": "stream",
          "name": "stdout",
          "text": [
            "Accuracy: 1.0\n"
          ]
        }
      ]
    },
    {
      "cell_type": "markdown",
      "source": [
        "# **Model: SVM**"
      ],
      "metadata": {
        "id": "3-mbyVJZKXhf"
      }
    },
    {
      "cell_type": "code",
      "source": [
        "from sklearn.svm import SVC\n",
        "from sklearn.metrics import classification_report, accuracy_score\n",
        "\n",
        "svm = SVC(kernel=\"linear\", probability=True, random_state=42)\n",
        "svm.fit(X_train, y_train)\n",
        "\n",
        "y_pred = svm.predict(X_test)\n",
        "acc = accuracy_score(y_test, y_pred)\n",
        "print(\"Accuracy:\", acc)\n",
        "print(classification_report(y_test, y_pred))\n"
      ],
      "metadata": {
        "colab": {
          "base_uri": "https://localhost:8080/"
        },
        "id": "N9pV-MGJOsEn",
        "outputId": "5c4be55d-5dca-4d5a-e53d-de09e71f110a"
      },
      "execution_count": null,
      "outputs": [
        {
          "output_type": "stream",
          "name": "stdout",
          "text": [
            "Accuracy: 1.0\n",
            "              precision    recall  f1-score   support\n",
            "\n",
            "           1       1.00      1.00      1.00        20\n",
            "           2       1.00      1.00      1.00        19\n",
            "           3       1.00      1.00      1.00        20\n",
            "           4       1.00      1.00      1.00        20\n",
            "           5       1.00      1.00      1.00        21\n",
            "           6       1.00      1.00      1.00        20\n",
            "           7       1.00      1.00      1.00        21\n",
            "           8       1.00      1.00      1.00        20\n",
            "           9       1.00      1.00      1.00        18\n",
            "          10       1.00      1.00      1.00        14\n",
            "          11       1.00      1.00      1.00        29\n",
            "          12       1.00      1.00      1.00        22\n",
            "          13       1.00      1.00      1.00        19\n",
            "          14       1.00      1.00      1.00        18\n",
            "\n",
            "    accuracy                           1.00       281\n",
            "   macro avg       1.00      1.00      1.00       281\n",
            "weighted avg       1.00      1.00      1.00       281\n",
            "\n"
          ]
        }
      ]
    },
    {
      "cell_type": "markdown",
      "source": [
        "#**Model: HNSW**"
      ],
      "metadata": {
        "id": "dlh4gUNGKdU-"
      }
    },
    {
      "cell_type": "code",
      "source": [
        "import hnswlib\n",
        "\n",
        "dim = X.shape[1]\n",
        "num_elements = X_train.shape[0]\n",
        "\n",
        "index = hnswlib.Index(space='cosine', dim=dim)\n",
        "index.init_index(max_elements=200000, ef_construction=200, M=32)\n",
        "index.add_items(X_train, y_train)\n",
        "index.set_ef(200)\n",
        "\n",
        "labels, distances = index.knn_query(X_test, k=1)\n",
        "\n",
        "y_pred = []\n",
        "for label, dist in zip(labels[:,0], distances[:,0]):\n",
        "    if dist > 0.3:\n",
        "        y_pred.append(0)\n",
        "    else:\n",
        "        y_pred.append(label)\n",
        "\n",
        "acc = accuracy_score(y_test, y_pred)\n",
        "print(\"Accuracy:\", acc)"
      ],
      "metadata": {
        "colab": {
          "base_uri": "https://localhost:8080/"
        },
        "id": "knOBDJL9GmVF",
        "outputId": "d6295f59-378a-4407-ee57-c9a5541383b7"
      },
      "execution_count": null,
      "outputs": [
        {
          "output_type": "stream",
          "name": "stdout",
          "text": [
            "Accuracy: 0.9679715302491103\n"
          ]
        }
      ]
    },
    {
      "cell_type": "markdown",
      "source": [
        "# **Model: FAISS**"
      ],
      "metadata": {
        "id": "tryj7Bvqdn3h"
      }
    },
    {
      "cell_type": "code",
      "source": [
        "import faiss\n",
        "\n",
        "dim = X_train.shape[1]\n",
        "\n",
        "index = faiss.IndexFlatL2(dim)\n",
        "index.add(X_train)\n",
        "\n",
        "def predict_one_faiss_k1(index, x):\n",
        "    x = x.reshape(1, -1).astype('float32')\n",
        "    D, I = index.search(x, 1)\n",
        "    idx = I[0][0]\n",
        "    dist = D[0][0]\n",
        "    label = y_train[idx]\n",
        "\n",
        "    similarity = 1 / (1 + dist)\n",
        "    return label, similarity\n",
        "\n",
        "y_pred = []\n",
        "for x in X_test:\n",
        "    lbl, _ = predict_one_faiss_k1(index, x)\n",
        "    y_pred.append(lbl)\n",
        "\n",
        "acc = accuracy_score(y_test, y_pred)\n",
        "print(\"Accuracy FAISS Flat:\", acc)\n"
      ],
      "metadata": {
        "colab": {
          "base_uri": "https://localhost:8080/"
        },
        "id": "IkSieIQ34Czq",
        "outputId": "cf43d3b7-3a75-4458-900e-4c8a0c320b2c"
      },
      "execution_count": null,
      "outputs": [
        {
          "output_type": "stream",
          "name": "stdout",
          "text": [
            "Accuracy FAISS Flat: 1.0\n"
          ]
        }
      ]
    },
    {
      "cell_type": "markdown",
      "source": [
        "## Download model"
      ],
      "metadata": {
        "id": "z3gHfQlIeOhc"
      }
    },
    {
      "cell_type": "code",
      "source": [
        "import pickle\n",
        "\n",
        "faiss_path = \"/content/drive/MyDrive/ai_techwiz_2/faiss_index.index\"\n",
        "labels_path = \"/content/drive/MyDrive/ai_techwiz_2/faiss_labels.pkl\"\n",
        "\n",
        "faiss.write_index(index, faiss_path)\n",
        "\n",
        "with open(labels_path, \"wb\") as f:\n",
        "    pickle.dump(y_train, f)"
      ],
      "metadata": {
        "id": "iqZ8VGm45NgK"
      },
      "execution_count": null,
      "outputs": []
    }
  ]
}